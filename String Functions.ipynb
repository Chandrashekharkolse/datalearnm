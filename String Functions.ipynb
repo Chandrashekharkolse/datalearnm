{
 "cells": [
  {
   "cell_type": "markdown",
   "id": "624a3686",
   "metadata": {},
   "source": [
    "### String"
   ]
  },
  {
   "cell_type": "raw",
   "id": "25fbb77c",
   "metadata": {},
   "source": [
    "Python string is the collection of the characters surrounded by single quotes, double quotes, or triple quotes.  Python string is a built-in sequence data type. Strings can be used to handle textual data in Python. Here I have listed some of the important and useful functions of string in Python for Data Analysis."
   ]
  },
  {
   "cell_type": "markdown",
   "id": "55f2a6b5",
   "metadata": {},
   "source": [
    "## String Functions"
   ]
  },
  {
   "cell_type": "raw",
   "id": "e91dfc00",
   "metadata": {},
   "source": [
    "1. capitalize()\n",
    "2. upper()\n",
    "3. lower()\n",
    "4. title()\n",
    "5. lstrip()\n",
    "6. rstrip()\n",
    "7. strip()\n",
    "8. swapcase()\n",
    "9. replace()\n",
    "10. count()\n",
    "11. index()\n",
    "12. find()\n",
    "13. len()\n",
    "14. split()\n",
    "15. join()\n",
    "16. endswith()\n",
    "17. startswith()\n",
    "18. isalnum()\n",
    "19. isalpha()\n",
    "20. isdecimal()\n",
    "21. islower()\n",
    "22. isupper()\n",
    "23. istitle()\n",
    "24. isdigit()\n",
    "25. isnumeric()\n",
    "26. isspace()\n",
    "27. center()\n",
    "28. zfill()"
   ]
  },
  {
   "cell_type": "markdown",
   "id": "49d578b2",
   "metadata": {},
   "source": [
    "### 1. Capitalize()"
   ]
  },
  {
   "cell_type": "code",
   "execution_count": 1,
   "id": "fe36931d",
   "metadata": {},
   "outputs": [],
   "source": [
    "# Capitalize the first character of string"
   ]
  },
  {
   "cell_type": "code",
   "execution_count": 5,
   "id": "532d699e",
   "metadata": {},
   "outputs": [
    {
     "name": "stdout",
     "output_type": "stream",
     "text": [
      "hello python\n"
     ]
    },
    {
     "data": {
      "text/plain": [
       "'Hello python'"
      ]
     },
     "execution_count": 5,
     "metadata": {},
     "output_type": "execute_result"
    }
   ],
   "source": [
    "s = \"hello python\"\n",
    "print(s)\n",
    "s.capitalize()"
   ]
  },
  {
   "cell_type": "code",
   "execution_count": 7,
   "id": "15b6fe58",
   "metadata": {},
   "outputs": [
    {
     "name": "stdout",
     "output_type": "stream",
     "text": [
      " hello python\n",
      " hello python\n"
     ]
    }
   ],
   "source": [
    "s = \" hello python\"\n",
    "print(s)\n",
    "print(s.capitalize())"
   ]
  },
  {
   "cell_type": "markdown",
   "id": "8fc2caf0",
   "metadata": {},
   "source": [
    "### 2. upper()"
   ]
  },
  {
   "cell_type": "code",
   "execution_count": null,
   "id": "9f3b36a5",
   "metadata": {},
   "outputs": [],
   "source": [
    "# Convert all char to upper case"
   ]
  },
  {
   "cell_type": "code",
   "execution_count": 8,
   "id": "2213f7a1",
   "metadata": {},
   "outputs": [
    {
     "name": "stdout",
     "output_type": "stream",
     "text": [
      "hello python\n"
     ]
    },
    {
     "data": {
      "text/plain": [
       "'HELLO PYTHON'"
      ]
     },
     "execution_count": 8,
     "metadata": {},
     "output_type": "execute_result"
    }
   ],
   "source": [
    "s = \"hello python\"\n",
    "print(s)\n",
    "s.upper()"
   ]
  },
  {
   "cell_type": "code",
   "execution_count": 10,
   "id": "1ba96535",
   "metadata": {},
   "outputs": [
    {
     "name": "stdout",
     "output_type": "stream",
     "text": [
      "Data type of variable is : <class 'str'>\n"
     ]
    },
    {
     "data": {
      "text/plain": [
       "'1234ABC'"
      ]
     },
     "execution_count": 10,
     "metadata": {},
     "output_type": "execute_result"
    }
   ],
   "source": [
    "s = '1234abc'\n",
    "print('Data type of variable is :', type(s))\n",
    "s.upper()"
   ]
  },
  {
   "cell_type": "code",
   "execution_count": 11,
   "id": "34d28fd8",
   "metadata": {},
   "outputs": [
    {
     "data": {
      "text/plain": [
       "'DATA SCIENCE'"
      ]
     },
     "execution_count": 11,
     "metadata": {},
     "output_type": "execute_result"
    }
   ],
   "source": [
    "s = 'Data Science'\n",
    "s.upper()"
   ]
  },
  {
   "cell_type": "code",
   "execution_count": 12,
   "id": "fbc8e1ca",
   "metadata": {},
   "outputs": [
    {
     "data": {
      "text/plain": [
       "'CSTPL3452A'"
      ]
     },
     "execution_count": 12,
     "metadata": {},
     "output_type": "execute_result"
    }
   ],
   "source": [
    "pan_card_num = 'cstpl3452a'\n",
    "pan_card_num.upper()"
   ]
  },
  {
   "cell_type": "code",
   "execution_count": 14,
   "id": "61e3aa05",
   "metadata": {},
   "outputs": [
    {
     "data": {
      "text/plain": [
       "False"
      ]
     },
     "execution_count": 14,
     "metadata": {},
     "output_type": "execute_result"
    }
   ],
   "source": [
    "aadhar_name = 'akshay kumar'\n",
    "pan_name = 'Akshay Kumar'\n",
    "aadhar_name == pan_name"
   ]
  },
  {
   "cell_type": "code",
   "execution_count": 17,
   "id": "13a081b2",
   "metadata": {},
   "outputs": [],
   "source": [
    "aadhar_name = aadhar_name.upper()\n",
    "aadhar_name\n",
    "pan_name = pan_name.upper()"
   ]
  },
  {
   "cell_type": "code",
   "execution_count": 16,
   "id": "37d47231",
   "metadata": {},
   "outputs": [
    {
     "data": {
      "text/plain": [
       "True"
      ]
     },
     "execution_count": 16,
     "metadata": {},
     "output_type": "execute_result"
    }
   ],
   "source": [
    "aadhar_name == pan_name"
   ]
  },
  {
   "cell_type": "code",
   "execution_count": 18,
   "id": "58b75ef9",
   "metadata": {},
   "outputs": [
    {
     "data": {
      "text/plain": [
       "'AKSHAY KUMAR'"
      ]
     },
     "execution_count": 18,
     "metadata": {},
     "output_type": "execute_result"
    }
   ],
   "source": [
    "aadhar_name"
   ]
  },
  {
   "cell_type": "code",
   "execution_count": 19,
   "id": "a6b570dd",
   "metadata": {},
   "outputs": [
    {
     "data": {
      "text/plain": [
       "'AKSHAY KUMAR'"
      ]
     },
     "execution_count": 19,
     "metadata": {},
     "output_type": "execute_result"
    }
   ],
   "source": [
    "pan_name"
   ]
  },
  {
   "cell_type": "code",
   "execution_count": 20,
   "id": "22bff011",
   "metadata": {},
   "outputs": [
    {
     "name": "stdout",
     "output_type": "stream",
     "text": [
      "Both names are same\n"
     ]
    }
   ],
   "source": [
    "if aadhar_name == pan_name:\n",
    "    print(\"Both names are same\")"
   ]
  },
  {
   "cell_type": "code",
   "execution_count": 21,
   "id": "3bafb2c8",
   "metadata": {},
   "outputs": [
    {
     "name": "stdout",
     "output_type": "stream",
     "text": [
      "Names are diferent \n"
     ]
    }
   ],
   "source": [
    "aadhar_name = 'akshay kumar'\n",
    "pan_name = 'Akshay Kumar'\n",
    "if aadhar_name == pan_name:\n",
    "    print(\"Both names are same\")\n",
    "else:\n",
    "    print(\"Names are diferent \")"
   ]
  },
  {
   "cell_type": "markdown",
   "id": "0beff38b",
   "metadata": {},
   "source": [
    "### 3. lower()"
   ]
  },
  {
   "cell_type": "code",
   "execution_count": 22,
   "id": "5898eea5",
   "metadata": {},
   "outputs": [
    {
     "data": {
      "text/plain": [
       "'virat kohli'"
      ]
     },
     "execution_count": 22,
     "metadata": {},
     "output_type": "execute_result"
    }
   ],
   "source": [
    "aadhar_name = 'Virat Kohli'\n",
    "aadhar_name.lower()"
   ]
  },
  {
   "cell_type": "code",
   "execution_count": 23,
   "id": "d637c2f0",
   "metadata": {},
   "outputs": [
    {
     "data": {
      "text/plain": [
       "'123dffjkgg'"
      ]
     },
     "execution_count": 23,
     "metadata": {},
     "output_type": "execute_result"
    }
   ],
   "source": [
    "s = '123DFFjkgg'\n",
    "s.lower()"
   ]
  },
  {
   "cell_type": "code",
   "execution_count": 25,
   "id": "2a703641",
   "metadata": {},
   "outputs": [
    {
     "name": "stdout",
     "output_type": "stream",
     "text": [
      "Both names are same\n"
     ]
    }
   ],
   "source": [
    "aadhar_name = 'AKshay KUMAR'\n",
    "pan_name = 'Akshay Kumar'\n",
    "aadhar_name = aadhar_name.lower()\n",
    "pan_name = pan_name.lower()\n",
    "if aadhar_name == pan_name:        #True\n",
    "    print(\"Both names are same\")\n",
    "else:\n",
    "    print(\"Names are diferent \")"
   ]
  },
  {
   "cell_type": "code",
   "execution_count": 26,
   "id": "65456ffe",
   "metadata": {},
   "outputs": [
    {
     "name": "stdout",
     "output_type": "stream",
     "text": [
      "Names are diferent \n"
     ]
    }
   ],
   "source": [
    "aadhar_name = 'AKshay KUMAR'\n",
    "pan_name = 'Akshay Kumar'\n",
    "\n",
    "if aadhar_name == pan_name:        #True\n",
    "    print(\"Both names are same\")\n",
    "else:\n",
    "    print(\"Names are diferent \")"
   ]
  },
  {
   "cell_type": "markdown",
   "id": "d44b71f9",
   "metadata": {},
   "source": [
    "### 4. title"
   ]
  },
  {
   "cell_type": "code",
   "execution_count": 27,
   "id": "ef6ff630",
   "metadata": {},
   "outputs": [],
   "source": [
    "# Convert string to title case\n",
    "# Capitalize first char of every word"
   ]
  },
  {
   "cell_type": "code",
   "execution_count": 28,
   "id": "10a5ec11",
   "metadata": {},
   "outputs": [
    {
     "data": {
      "text/plain": [
       "'Data Learnm'"
      ]
     },
     "execution_count": 28,
     "metadata": {},
     "output_type": "execute_result"
    }
   ],
   "source": [
    "name = 'data learnm'\n",
    "name.title()"
   ]
  },
  {
   "cell_type": "code",
   "execution_count": 29,
   "id": "a153ae6b",
   "metadata": {},
   "outputs": [
    {
     "data": {
      "text/plain": [
       "'India'"
      ]
     },
     "execution_count": 29,
     "metadata": {},
     "output_type": "execute_result"
    }
   ],
   "source": [
    "name = 'india'\n",
    "name.title()"
   ]
  },
  {
   "cell_type": "code",
   "execution_count": 30,
   "id": "bf63da3e",
   "metadata": {},
   "outputs": [
    {
     "data": {
      "text/plain": [
       "'United States Of America'"
      ]
     },
     "execution_count": 30,
     "metadata": {},
     "output_type": "execute_result"
    }
   ],
   "source": [
    "name = 'united states of america'\n",
    "name.title()"
   ]
  },
  {
   "cell_type": "markdown",
   "id": "e52d5134",
   "metadata": {},
   "source": [
    "### 5. lstrip()"
   ]
  },
  {
   "cell_type": "code",
   "execution_count": 31,
   "id": "6d91bee1",
   "metadata": {},
   "outputs": [],
   "source": [
    "# It remove leading whitespaces (Left side)"
   ]
  },
  {
   "cell_type": "code",
   "execution_count": 32,
   "id": "22797013",
   "metadata": {},
   "outputs": [
    {
     "data": {
      "text/plain": [
       "'Data science'"
      ]
     },
     "execution_count": 32,
     "metadata": {},
     "output_type": "execute_result"
    }
   ],
   "source": [
    "string = \"     Data science\"\n",
    "string.lstrip()"
   ]
  },
  {
   "cell_type": "code",
   "execution_count": 33,
   "id": "99f0ce1d",
   "metadata": {},
   "outputs": [
    {
     "data": {
      "text/plain": [
       "'Data    science    '"
      ]
     },
     "execution_count": 33,
     "metadata": {},
     "output_type": "execute_result"
    }
   ],
   "source": [
    "string = \"     Data    science    \"\n",
    "string.lstrip()"
   ]
  },
  {
   "cell_type": "markdown",
   "id": "cf50bf01",
   "metadata": {},
   "source": [
    "### 6. rstrip()"
   ]
  },
  {
   "cell_type": "code",
   "execution_count": 34,
   "id": "7b576b27",
   "metadata": {},
   "outputs": [],
   "source": [
    "# It removes trailing whitespaces (Right side)"
   ]
  },
  {
   "cell_type": "code",
   "execution_count": 35,
   "id": "c287fda4",
   "metadata": {},
   "outputs": [
    {
     "data": {
      "text/plain": [
       "'Data science'"
      ]
     },
     "execution_count": 35,
     "metadata": {},
     "output_type": "execute_result"
    }
   ],
   "source": [
    "string = \"Data science     \"\n",
    "string.rstrip()"
   ]
  },
  {
   "cell_type": "code",
   "execution_count": 36,
   "id": "50707583",
   "metadata": {},
   "outputs": [
    {
     "data": {
      "text/plain": [
       "'     Data    science'"
      ]
     },
     "execution_count": 36,
     "metadata": {},
     "output_type": "execute_result"
    }
   ],
   "source": [
    "string = \"     Data    science    \"\n",
    "string.rstrip()"
   ]
  },
  {
   "cell_type": "markdown",
   "id": "6427c81b",
   "metadata": {},
   "source": [
    "### 7. strip()"
   ]
  },
  {
   "cell_type": "code",
   "execution_count": 37,
   "id": "ac70f912",
   "metadata": {},
   "outputs": [],
   "source": [
    "# It removes leading and trailing whitespaces."
   ]
  },
  {
   "cell_type": "code",
   "execution_count": 38,
   "id": "2a494348",
   "metadata": {},
   "outputs": [
    {
     "data": {
      "text/plain": [
       "'Python Class'"
      ]
     },
     "execution_count": 38,
     "metadata": {},
     "output_type": "execute_result"
    }
   ],
   "source": [
    "s = \"     Python Class     \"\n",
    "s.strip()"
   ]
  },
  {
   "cell_type": "code",
   "execution_count": 40,
   "id": "e70cf208",
   "metadata": {},
   "outputs": [
    {
     "name": "stdout",
     "output_type": "stream",
     "text": [
      "Names are different\n"
     ]
    }
   ],
   "source": [
    "aadhar_name = \"    virat kohli   \"\n",
    "pan_name = \"   Virat Kohli   \"\n",
    "\n",
    "if aadhar_name == pan_name:  # False\n",
    "    print(\"Both names are same\")\n",
    "    \n",
    "else:\n",
    "    print('Names are different')   #True"
   ]
  },
  {
   "cell_type": "code",
   "execution_count": 47,
   "id": "5bde9ab0",
   "metadata": {},
   "outputs": [
    {
     "name": "stdout",
     "output_type": "stream",
     "text": [
      "Aadhar card name is---     virat kohli   \n",
      "Pan card name is---    Virat Kohli   \n",
      "\n",
      "Updated names after converting upper case\n",
      "Aadhar card name is---     VIRAT KOHLI   \n",
      "Pan card name is---    VIRAT KOHLI   \n",
      "\n",
      "Updated names after removing white spaces\n",
      "Aadhar card name is--- VIRAT KOHLI\n",
      "Pan card name is--- VIRAT KOHLI\n",
      "Both names are same\n"
     ]
    }
   ],
   "source": [
    "aadhar_name = \"    virat kohli   \"\n",
    "pan_name = \"   Virat Kohli   \"\n",
    "\n",
    "print(\"Aadhar card name is---\",aadhar_name)\n",
    "print(\"Pan card name is---\", pan_name)\n",
    "\n",
    "aadhar_name = aadhar_name.upper()\n",
    "pan_name = pan_name.upper()\n",
    "\n",
    "print('\\nUpdated names after converting upper case')\n",
    "print(\"Aadhar card name is---\",aadhar_name)\n",
    "print(\"Pan card name is---\", pan_name)\n",
    "\n",
    "aadhar_name = aadhar_name.strip()\n",
    "pan_name = pan_name.strip()\n",
    "\n",
    "print('\\nUpdated names after removing white spaces')\n",
    "print(\"Aadhar card name is---\",aadhar_name)\n",
    "print(\"Pan card name is---\", pan_name)\n",
    "\n",
    "if aadhar_name == pan_name:  # False\n",
    "    print(\"\\nBoth names are same\")\n",
    "    \n",
    "else:\n",
    "    print('\\nNames are different')   #True"
   ]
  },
  {
   "cell_type": "code",
   "execution_count": 48,
   "id": "c1c84061",
   "metadata": {},
   "outputs": [
    {
     "data": {
      "text/plain": [
       "'data science'"
      ]
     },
     "execution_count": 48,
     "metadata": {},
     "output_type": "execute_result"
    }
   ],
   "source": [
    "s = '  Data Science   '\n",
    "s.lower().strip()"
   ]
  },
  {
   "cell_type": "markdown",
   "id": "408c1bc3",
   "metadata": {},
   "source": [
    "### Remove vowels from string"
   ]
  },
  {
   "cell_type": "code",
   "execution_count": 49,
   "id": "4b5a7385",
   "metadata": {},
   "outputs": [
    {
     "data": {
      "text/plain": [
       "'D**t**Le**rnm cl**sses of d**t** science **nd m**chine le**rning'"
      ]
     },
     "execution_count": 49,
     "metadata": {},
     "output_type": "execute_result"
    }
   ],
   "source": [
    "# vowels >>>>> a, e, i o, u\n",
    "str1 = \"DataLearnm classes of data science and machine learning\"\n",
    "str1.replace('a', '**')"
   ]
  },
  {
   "cell_type": "code",
   "execution_count": 50,
   "id": "f9b8b13f",
   "metadata": {},
   "outputs": [
    {
     "data": {
      "text/plain": [
       "'Data Science'"
      ]
     },
     "execution_count": 50,
     "metadata": {},
     "output_type": "execute_result"
    }
   ],
   "source": [
    "s = 'Data        Science'\n",
    "s.replace('        ', ' ')"
   ]
  },
  {
   "cell_type": "markdown",
   "id": "851ba484",
   "metadata": {},
   "source": [
    "### 8. swapcase()"
   ]
  },
  {
   "cell_type": "code",
   "execution_count": 51,
   "id": "23bf86e5",
   "metadata": {},
   "outputs": [],
   "source": [
    "# It inverts case of all characters\n",
    "# Lower --- Upper\n",
    "# Upper--- Lower"
   ]
  },
  {
   "cell_type": "code",
   "execution_count": 52,
   "id": "72754efe",
   "metadata": {},
   "outputs": [
    {
     "data": {
      "text/plain": [
       "'dATA sCIENCE'"
      ]
     },
     "execution_count": 52,
     "metadata": {},
     "output_type": "execute_result"
    }
   ],
   "source": [
    "str1 = 'Data Science'\n",
    "str1.swapcase()"
   ]
  },
  {
   "cell_type": "code",
   "execution_count": 53,
   "id": "de16f7be",
   "metadata": {},
   "outputs": [
    {
     "data": {
      "text/plain": [
       "'data science'"
      ]
     },
     "execution_count": 53,
     "metadata": {},
     "output_type": "execute_result"
    }
   ],
   "source": [
    "str1 = 'DATA SCIENCE'\n",
    "str1.swapcase()"
   ]
  },
  {
   "cell_type": "code",
   "execution_count": 54,
   "id": "f2222408",
   "metadata": {},
   "outputs": [
    {
     "data": {
      "text/plain": [
       "'DATA SCIENCE123455'"
      ]
     },
     "execution_count": 54,
     "metadata": {},
     "output_type": "execute_result"
    }
   ],
   "source": [
    "str1 = 'data science123455'\n",
    "str1.swapcase()"
   ]
  },
  {
   "cell_type": "markdown",
   "id": "0b0082f6",
   "metadata": {},
   "source": [
    "### 9. replace()"
   ]
  },
  {
   "cell_type": "raw",
   "id": "642b686e",
   "metadata": {},
   "source": [
    "string(old_str, new_str , count)"
   ]
  },
  {
   "cell_type": "code",
   "execution_count": 55,
   "id": "99e60637",
   "metadata": {},
   "outputs": [
    {
     "data": {
      "text/plain": [
       "'D*t*L**rnm cl*ss*s of d*t* sci*nc* *nd m*chin* l**rning'"
      ]
     },
     "execution_count": 55,
     "metadata": {},
     "output_type": "execute_result"
    }
   ],
   "source": [
    "str1 = \"DataLearnm classes of data science and machine learning\"\n",
    "str1.replace('a', '*').replace('e','*')"
   ]
  },
  {
   "cell_type": "code",
   "execution_count": 56,
   "id": "74eca091",
   "metadata": {},
   "outputs": [
    {
     "data": {
      "text/plain": [
       "'Analysis science machine learning Analysis'"
      ]
     },
     "execution_count": 56,
     "metadata": {},
     "output_type": "execute_result"
    }
   ],
   "source": [
    "str1 = 'Data science machine learning Data'\n",
    "str1.replace(\"Data\", 'Analysis')"
   ]
  },
  {
   "cell_type": "code",
   "execution_count": 57,
   "id": "11b6b1fd",
   "metadata": {},
   "outputs": [
    {
     "data": {
      "text/plain": [
       "'Analysis science machine learning Data'"
      ]
     },
     "execution_count": 57,
     "metadata": {},
     "output_type": "execute_result"
    }
   ],
   "source": [
    "str1 = 'Data science machine learning Data'\n",
    "str1.replace(\"Data\", 'Analysis', 1)"
   ]
  },
  {
   "cell_type": "code",
   "execution_count": 58,
   "id": "8c928da9",
   "metadata": {},
   "outputs": [
    {
     "data": {
      "text/plain": [
       "'Analysis science machine learning Analysis and learn Data'"
      ]
     },
     "execution_count": 58,
     "metadata": {},
     "output_type": "execute_result"
    }
   ],
   "source": [
    "str1 = 'Data science machine learning Data and learn Data'\n",
    "str1.replace(\"Data\", 'Analysis', 2)"
   ]
  },
  {
   "cell_type": "markdown",
   "id": "4c1876c4",
   "metadata": {},
   "source": [
    "### 10.count()"
   ]
  },
  {
   "cell_type": "code",
   "execution_count": 59,
   "id": "3593462e",
   "metadata": {},
   "outputs": [
    {
     "data": {
      "text/plain": [
       "2"
      ]
     },
     "execution_count": 59,
     "metadata": {},
     "output_type": "execute_result"
    }
   ],
   "source": [
    "string = 'Data Science'\n",
    "string.count('a')"
   ]
  },
  {
   "cell_type": "code",
   "execution_count": 60,
   "id": "94dd37d7",
   "metadata": {},
   "outputs": [
    {
     "data": {
      "text/plain": [
       "0"
      ]
     },
     "execution_count": 60,
     "metadata": {},
     "output_type": "execute_result"
    }
   ],
   "source": [
    "string = 'Data Science'\n",
    "string.count('s')"
   ]
  },
  {
   "cell_type": "code",
   "execution_count": 61,
   "id": "b12e854d",
   "metadata": {},
   "outputs": [
    {
     "data": {
      "text/plain": [
       "1"
      ]
     },
     "execution_count": 61,
     "metadata": {},
     "output_type": "execute_result"
    }
   ],
   "source": [
    "string = 'Data Science'\n",
    "string.count('S')"
   ]
  },
  {
   "cell_type": "code",
   "execution_count": 62,
   "id": "b0c3d389",
   "metadata": {},
   "outputs": [
    {
     "data": {
      "text/plain": [
       "3"
      ]
     },
     "execution_count": 62,
     "metadata": {},
     "output_type": "execute_result"
    }
   ],
   "source": [
    "str1 = 'Data science machine learning Data and learn Data'\n",
    "str1.count(\"Data\")"
   ]
  },
  {
   "cell_type": "code",
   "execution_count": 69,
   "id": "20e145c2",
   "metadata": {},
   "outputs": [
    {
     "data": {
      "text/plain": [
       "0"
      ]
     },
     "execution_count": 69,
     "metadata": {},
     "output_type": "execute_result"
    }
   ],
   "source": [
    "str1 = 'Data science machine learning Data and learn Data'\n",
    "len(str1)\n",
    "str1.count(\"Data\",1,25)"
   ]
  },
  {
   "cell_type": "markdown",
   "id": "e68b9b6e",
   "metadata": {},
   "source": [
    "### 11. Index()"
   ]
  },
  {
   "cell_type": "code",
   "execution_count": 1,
   "id": "a3878fa5",
   "metadata": {},
   "outputs": [],
   "source": [
    "# Index of char or word"
   ]
  },
  {
   "cell_type": "code",
   "execution_count": 2,
   "id": "c1852065",
   "metadata": {},
   "outputs": [],
   "source": [
    "str1 = \"Python is programming language. Python is used for machine learning\""
   ]
  },
  {
   "cell_type": "code",
   "execution_count": 3,
   "id": "d19128b7",
   "metadata": {},
   "outputs": [
    {
     "data": {
      "text/plain": [
       "0"
      ]
     },
     "execution_count": 3,
     "metadata": {},
     "output_type": "execute_result"
    }
   ],
   "source": [
    "str1.index('P')"
   ]
  },
  {
   "cell_type": "code",
   "execution_count": 4,
   "id": "f3fb17cd",
   "metadata": {},
   "outputs": [
    {
     "data": {
      "text/plain": [
       "22"
      ]
     },
     "execution_count": 4,
     "metadata": {},
     "output_type": "execute_result"
    }
   ],
   "source": [
    "str1.index(\"language\")"
   ]
  },
  {
   "cell_type": "code",
   "execution_count": 5,
   "id": "4c012eda",
   "metadata": {},
   "outputs": [
    {
     "data": {
      "text/plain": [
       "7"
      ]
     },
     "execution_count": 5,
     "metadata": {},
     "output_type": "execute_result"
    }
   ],
   "source": [
    "str1.index('is')"
   ]
  },
  {
   "cell_type": "code",
   "execution_count": 6,
   "id": "cce543a8",
   "metadata": {},
   "outputs": [
    {
     "data": {
      "text/plain": [
       "39"
      ]
     },
     "execution_count": 6,
     "metadata": {},
     "output_type": "execute_result"
    }
   ],
   "source": [
    "str1.index('is',8,50)"
   ]
  },
  {
   "cell_type": "code",
   "execution_count": 7,
   "id": "8ffc131f",
   "metadata": {},
   "outputs": [
    {
     "data": {
      "text/plain": [
       "'Python is programming lan'"
      ]
     },
     "execution_count": 7,
     "metadata": {},
     "output_type": "execute_result"
    }
   ],
   "source": [
    "str1[0:25]"
   ]
  },
  {
   "cell_type": "markdown",
   "id": "683a27c1",
   "metadata": {},
   "source": [
    "### 12. find()"
   ]
  },
  {
   "cell_type": "raw",
   "id": "adc2ce3c",
   "metadata": {},
   "source": [
    "find(substring, [start_index], [end_index])\n",
    "Return -1 if substring not found"
   ]
  },
  {
   "cell_type": "code",
   "execution_count": 9,
   "id": "991667e0",
   "metadata": {},
   "outputs": [
    {
     "data": {
      "text/plain": [
       "7"
      ]
     },
     "execution_count": 9,
     "metadata": {},
     "output_type": "execute_result"
    }
   ],
   "source": [
    "s = \"Python class\"\n",
    "s.find('c')"
   ]
  },
  {
   "cell_type": "code",
   "execution_count": 10,
   "id": "93946e7b",
   "metadata": {},
   "outputs": [
    {
     "data": {
      "text/plain": [
       "7"
      ]
     },
     "execution_count": 10,
     "metadata": {},
     "output_type": "execute_result"
    }
   ],
   "source": [
    "s.index('c')"
   ]
  },
  {
   "cell_type": "code",
   "execution_count": 11,
   "id": "5c7198c1",
   "metadata": {},
   "outputs": [
    {
     "data": {
      "text/plain": [
       "-1"
      ]
     },
     "execution_count": 11,
     "metadata": {},
     "output_type": "execute_result"
    }
   ],
   "source": [
    "s.find('x')"
   ]
  },
  {
   "cell_type": "code",
   "execution_count": 12,
   "id": "92a9cf04",
   "metadata": {},
   "outputs": [
    {
     "ename": "ValueError",
     "evalue": "substring not found",
     "output_type": "error",
     "traceback": [
      "\u001b[1;31m---------------------------------------------------------------------------\u001b[0m",
      "\u001b[1;31mValueError\u001b[0m                                Traceback (most recent call last)",
      "Cell \u001b[1;32mIn[12], line 1\u001b[0m\n\u001b[1;32m----> 1\u001b[0m \u001b[43ms\u001b[49m\u001b[38;5;241;43m.\u001b[39;49m\u001b[43mindex\u001b[49m\u001b[43m(\u001b[49m\u001b[38;5;124;43m'\u001b[39;49m\u001b[38;5;124;43mx\u001b[39;49m\u001b[38;5;124;43m'\u001b[39;49m\u001b[43m)\u001b[49m\n",
      "\u001b[1;31mValueError\u001b[0m: substring not found"
     ]
    }
   ],
   "source": [
    "s.index('x')"
   ]
  },
  {
   "cell_type": "code",
   "execution_count": 13,
   "id": "415e2cb2",
   "metadata": {},
   "outputs": [
    {
     "name": "stdout",
     "output_type": "stream",
     "text": [
      "Index of character is : -1\n",
      "Char is not in a string\n"
     ]
    }
   ],
   "source": [
    "string = \"Data Science\"\n",
    "index = string.find('X')\n",
    "print(\"Index of character is :\", index)\n",
    "if index == -1:\n",
    "    print(\"Char is not in a string\")"
   ]
  },
  {
   "cell_type": "code",
   "execution_count": 14,
   "id": "e3db9cf7",
   "metadata": {},
   "outputs": [
    {
     "name": "stdout",
     "output_type": "stream",
     "text": [
      "Index of character is : 5\n"
     ]
    }
   ],
   "source": [
    "string = \"Data Science\"\n",
    "index = string.find('S')\n",
    "print(\"Index of character is :\", index)\n",
    "if index == -1:\n",
    "    print(\"Char is not in a string\")"
   ]
  },
  {
   "cell_type": "markdown",
   "id": "182fa295",
   "metadata": {},
   "source": [
    "### To check substring in a string"
   ]
  },
  {
   "cell_type": "code",
   "execution_count": 15,
   "id": "0a1ba698",
   "metadata": {},
   "outputs": [
    {
     "data": {
      "text/plain": [
       "True"
      ]
     },
     "execution_count": 15,
     "metadata": {},
     "output_type": "execute_result"
    }
   ],
   "source": [
    "s = \"python class\"\n",
    "'p' in s"
   ]
  },
  {
   "cell_type": "code",
   "execution_count": 16,
   "id": "09f44572",
   "metadata": {},
   "outputs": [
    {
     "data": {
      "text/plain": [
       "False"
      ]
     },
     "execution_count": 16,
     "metadata": {},
     "output_type": "execute_result"
    }
   ],
   "source": [
    "'x' in s"
   ]
  },
  {
   "cell_type": "code",
   "execution_count": 17,
   "id": "b2f267b4",
   "metadata": {},
   "outputs": [
    {
     "name": "stdout",
     "output_type": "stream",
     "text": [
      "Python is present in a given string\n"
     ]
    }
   ],
   "source": [
    "str1 = \"Python is programming language. Python is used for machine learning\"\n",
    "substring = 'Python'\n",
    "\n",
    "if substring in str1:\n",
    "    print(f'{substring} is present in a given string')\n",
    "\n",
    "else:\n",
    "    print(f'{substring} is not present in a given string')\n",
    "    "
   ]
  },
  {
   "cell_type": "code",
   "execution_count": 18,
   "id": "01f3b393",
   "metadata": {},
   "outputs": [
    {
     "name": "stdout",
     "output_type": "stream",
     "text": [
      "Data is not present in a given string\n"
     ]
    }
   ],
   "source": [
    "str1 = \"Python is programming language. Python is used for machine learning\"\n",
    "substring = 'Data'\n",
    "\n",
    "if substring in str1:\n",
    "    print(f'{substring} is present in a given string')\n",
    "\n",
    "else:\n",
    "    print(f'{substring} is not present in a given string')\n",
    "    "
   ]
  },
  {
   "cell_type": "code",
   "execution_count": 19,
   "id": "7d76a1dc",
   "metadata": {},
   "outputs": [
    {
     "name": "stdout",
     "output_type": "stream",
     "text": [
      "ata is present in a given string\n"
     ]
    }
   ],
   "source": [
    "str1 = \"Python is programming language. Python is used for machine learning\"\n",
    "substring = 'ata'\n",
    "\n",
    "if substring in str1:\n",
    "    print('{} is present in a given string'.format(substring))\n",
    "\n",
    "else:\n",
    "     print('{} is present in a given string'.format(substring))\n",
    "    "
   ]
  },
  {
   "cell_type": "code",
   "execution_count": 20,
   "id": "f7bd646e",
   "metadata": {},
   "outputs": [
    {
     "name": "stdout",
     "output_type": "stream",
     "text": [
      "Data is not present in a given string\n"
     ]
    }
   ],
   "source": [
    "str1 = \"Python is programming language. Python is used for machine learning\"\n",
    "substring = 'Data'\n",
    "\n",
    "if substring in str1:\n",
    "    print(f'{substring} is present in a given string')\n",
    "    \n",
    "    index = str1.index(substring)\n",
    "    print(f'Index of substring {substring} in given string is {index}')\n",
    "\n",
    "else:\n",
    "    print(f'{substring} is not present in a given string')"
   ]
  },
  {
   "cell_type": "code",
   "execution_count": 21,
   "id": "61911d4e",
   "metadata": {},
   "outputs": [
    {
     "name": "stdout",
     "output_type": "stream",
     "text": [
      "machine is present in a given string\n",
      "Index of machine in given string is 51\n"
     ]
    }
   ],
   "source": [
    "str1 = \"Python is programming language. Python is used for machine learning\"\n",
    "substring = 'machine'\n",
    "\n",
    "if substring in str1:\n",
    "    print(f'{substring} is present in a given string')\n",
    "    \n",
    "    index = str1.index(substring)\n",
    "    print(f'Index of {substring} in given string is {index}')\n",
    "\n",
    "else:\n",
    "    print(f'{substring} is not present in a given string')"
   ]
  },
  {
   "cell_type": "markdown",
   "id": "701d3171",
   "metadata": {},
   "source": [
    "### 13. len()"
   ]
  },
  {
   "cell_type": "code",
   "execution_count": 22,
   "id": "69c0ac95",
   "metadata": {},
   "outputs": [
    {
     "name": "stdout",
     "output_type": "stream",
     "text": [
      "Length of string is : 6\n"
     ]
    }
   ],
   "source": [
    "s1 = \"Python\"\n",
    "length = len(s1)\n",
    "print(\"Length of string is :\", length)"
   ]
  },
  {
   "cell_type": "code",
   "execution_count": 23,
   "id": "35e3c1f2",
   "metadata": {},
   "outputs": [
    {
     "data": {
      "text/plain": [
       "6"
      ]
     },
     "execution_count": 23,
     "metadata": {},
     "output_type": "execute_result"
    }
   ],
   "source": [
    "len(s1)"
   ]
  },
  {
   "cell_type": "code",
   "execution_count": 24,
   "id": "25b67ff7",
   "metadata": {},
   "outputs": [
    {
     "name": "stdout",
     "output_type": "stream",
     "text": [
      "Length of string is : 67\n"
     ]
    }
   ],
   "source": [
    "str1 = \"Python is programming language. Python is used for machine learning\"\n",
    "length = len(str1)\n",
    "print(\"Length of string is :\", length)"
   ]
  },
  {
   "cell_type": "code",
   "execution_count": 25,
   "id": "1d086d31",
   "metadata": {},
   "outputs": [
    {
     "name": "stdout",
     "output_type": "stream",
     "text": [
      "Length of string is : 82\n"
     ]
    }
   ],
   "source": [
    "str1 = \"               Python is programming language. Python is used for machine learning\"\n",
    "length = len(str1)\n",
    "print(\"Length of string is :\", length)"
   ]
  },
  {
   "cell_type": "markdown",
   "id": "9c9396d8",
   "metadata": {},
   "source": [
    "### 14. split()"
   ]
  },
  {
   "cell_type": "raw",
   "id": "feab2a8f",
   "metadata": {},
   "source": [
    "It returns list of words separated by white spaces\n",
    "string to list"
   ]
  },
  {
   "cell_type": "code",
   "execution_count": 28,
   "id": "9f2d4280",
   "metadata": {},
   "outputs": [
    {
     "data": {
      "text/plain": [
       "['Python',\n",
       " 'is',\n",
       " 'programming',\n",
       " 'language.',\n",
       " 'Python',\n",
       " 'is',\n",
       " 'used',\n",
       " 'for',\n",
       " 'machine',\n",
       " 'learning']"
      ]
     },
     "execution_count": 28,
     "metadata": {},
     "output_type": "execute_result"
    }
   ],
   "source": [
    "str1 = \"Python is programming language. Python is used for machine learning\"\n",
    "str1.split()"
   ]
  },
  {
   "cell_type": "code",
   "execution_count": 29,
   "id": "26914bd4",
   "metadata": {},
   "outputs": [
    {
     "name": "stdout",
     "output_type": "stream",
     "text": [
      "['Python', 'is', 'programming', 'language.', 'Python', 'is', 'used', 'for', 'machine', 'learning'] 10\n"
     ]
    }
   ],
   "source": [
    "str1 = \"Python is programming language. Python is used for machine learning\"\n",
    "list1 = str1.split()\n",
    "print(list1,len(list1))"
   ]
  },
  {
   "cell_type": "code",
   "execution_count": 30,
   "id": "a8659482",
   "metadata": {},
   "outputs": [
    {
     "name": "stdout",
     "output_type": "stream",
     "text": [
      "['Python is programming language', ' Python is used for machine learning'] 2\n"
     ]
    }
   ],
   "source": [
    "str1 = \"Python is programming language. Python is used for machine learning\"\n",
    "list1 = str1.split('.')\n",
    "print(list1,len(list1))"
   ]
  },
  {
   "cell_type": "code",
   "execution_count": 31,
   "id": "d76b5b34",
   "metadata": {},
   "outputs": [
    {
     "name": "stdout",
     "output_type": "stream",
     "text": [
      "['Python is programming', ' language', ' Python is used for', ' machine', ' learning'] 5\n"
     ]
    }
   ],
   "source": [
    "str1 = \"Python is programming. language. Python is used for. machine. learning\"\n",
    "list1 = str1.split('.')\n",
    "print(list1,len(list1))"
   ]
  },
  {
   "cell_type": "code",
   "execution_count": 32,
   "id": "06347481",
   "metadata": {},
   "outputs": [
    {
     "name": "stdout",
     "output_type": "stream",
     "text": [
      "['Python ', ' programming language. Python ', ' used for machine learning'] 3\n"
     ]
    }
   ],
   "source": [
    "str1 = \"Python is programming language. Python is used for machine learning\"\n",
    "list1 = str1.split('is')\n",
    "print(list1,len(list1))"
   ]
  },
  {
   "cell_type": "code",
   "execution_count": 33,
   "id": "1c7c6d37",
   "metadata": {},
   "outputs": [
    {
     "data": {
      "text/plain": [
       "['p y ', ' h o n']"
      ]
     },
     "execution_count": 33,
     "metadata": {},
     "output_type": "execute_result"
    }
   ],
   "source": [
    "s1 = 'p y t h o n'\n",
    "s1.split('t')"
   ]
  },
  {
   "cell_type": "code",
   "execution_count": 34,
   "id": "85edf6a3",
   "metadata": {},
   "outputs": [
    {
     "data": {
      "text/plain": [
       "['Python is programming',\n",
       " ' language',\n",
       " ' Python is used for',\n",
       " ' machine',\n",
       " ' learning']"
      ]
     },
     "execution_count": 34,
     "metadata": {},
     "output_type": "execute_result"
    }
   ],
   "source": [
    "str1 = \"Python is programming. language. Python is used for. machine. learning\"\n",
    "str1.split('.')"
   ]
  },
  {
   "cell_type": "code",
   "execution_count": 35,
   "id": "c26e2f2e",
   "metadata": {},
   "outputs": [
    {
     "name": "stdout",
     "output_type": "stream",
     "text": [
      "['Python is programming', ' language', ' Python is used for', ' machine', ' learning']\n"
     ]
    }
   ],
   "source": [
    "str1 = \"Python is programming. language. Python is used for. machine. learning\"\n",
    "print(str1.split('.'))"
   ]
  },
  {
   "cell_type": "markdown",
   "id": "76962c43",
   "metadata": {},
   "source": [
    "### 15. Join list items"
   ]
  },
  {
   "cell_type": "raw",
   "id": "c0b6387a",
   "metadata": {},
   "source": [
    "Join List items to form string"
   ]
  },
  {
   "cell_type": "code",
   "execution_count": 37,
   "id": "942c7c5d",
   "metadata": {},
   "outputs": [
    {
     "data": {
      "text/plain": [
       "'Python is programming language. Python is used for machine learning'"
      ]
     },
     "execution_count": 37,
     "metadata": {},
     "output_type": "execute_result"
    }
   ],
   "source": [
    "list1 = ['Python', 'is', 'programming', 'language.', 'Python', 'is', 'used', 'for', 'machine', 'learning']\n",
    "\" \".join(list1)"
   ]
  },
  {
   "cell_type": "code",
   "execution_count": 38,
   "id": "3886c32e",
   "metadata": {},
   "outputs": [
    {
     "data": {
      "text/plain": [
       "'Python*is*programming*language.*Python*is*used*for*machine*learning'"
      ]
     },
     "execution_count": 38,
     "metadata": {},
     "output_type": "execute_result"
    }
   ],
   "source": [
    "list1 = ['Python', 'is', 'programming', 'language.', 'Python', 'is', 'used', 'for', 'machine', 'learning']\n",
    "\"*\".join(list1)"
   ]
  },
  {
   "cell_type": "code",
   "execution_count": 39,
   "id": "b0d6820d",
   "metadata": {},
   "outputs": [
    {
     "data": {
      "text/plain": [
       "'Python + is + programming + language. + Python + is + used + for + machine + learning'"
      ]
     },
     "execution_count": 39,
     "metadata": {},
     "output_type": "execute_result"
    }
   ],
   "source": [
    "list1 = ['Python', 'is', 'programming', 'language.', 'Python', 'is', 'used', 'for', 'machine', 'learning']\n",
    "\" + \".join(list1)"
   ]
  },
  {
   "cell_type": "markdown",
   "id": "090b1d89",
   "metadata": {},
   "source": [
    "### 16. endswith()"
   ]
  },
  {
   "cell_type": "raw",
   "id": "806ee115",
   "metadata": {},
   "source": [
    "It returns boolean values (True or False)\n",
    "Use : To check file extensions"
   ]
  },
  {
   "cell_type": "code",
   "execution_count": 40,
   "id": "eb35d7a5",
   "metadata": {},
   "outputs": [
    {
     "data": {
      "text/plain": [
       "True"
      ]
     },
     "execution_count": 40,
     "metadata": {},
     "output_type": "execute_result"
    }
   ],
   "source": [
    "s = \"Machine\"\n",
    "s.endswith('e')"
   ]
  },
  {
   "cell_type": "code",
   "execution_count": 41,
   "id": "1344888d",
   "metadata": {},
   "outputs": [
    {
     "data": {
      "text/plain": [
       "False"
      ]
     },
     "execution_count": 41,
     "metadata": {},
     "output_type": "execute_result"
    }
   ],
   "source": [
    "s = \"Machine\"\n",
    "s.endswith('x')"
   ]
  },
  {
   "cell_type": "code",
   "execution_count": 42,
   "id": "2eb666be",
   "metadata": {},
   "outputs": [
    {
     "data": {
      "text/plain": [
       "False"
      ]
     },
     "execution_count": 42,
     "metadata": {},
     "output_type": "execute_result"
    }
   ],
   "source": [
    "s1 = 'Python Class'\n",
    "s1.endswith('class')"
   ]
  },
  {
   "cell_type": "code",
   "execution_count": 43,
   "id": "9c09d203",
   "metadata": {},
   "outputs": [
    {
     "data": {
      "text/plain": [
       "True"
      ]
     },
     "execution_count": 43,
     "metadata": {},
     "output_type": "execute_result"
    }
   ],
   "source": [
    "s1 = 'Python Class'\n",
    "s1.endswith('Class')"
   ]
  },
  {
   "cell_type": "code",
   "execution_count": 44,
   "id": "1ac98748",
   "metadata": {},
   "outputs": [
    {
     "name": "stdout",
     "output_type": "stream",
     "text": [
      "This is a text file\n"
     ]
    }
   ],
   "source": [
    "string = \"E:\\\\UNIPUNE PHD\\\\Chandrashekhar Scan Documents\\\\abc.txt\"\n",
    "if string.endswith('.txt'):\n",
    "    print('This is a text file')"
   ]
  },
  {
   "cell_type": "code",
   "execution_count": 45,
   "id": "d31c6dfe",
   "metadata": {},
   "outputs": [
    {
     "name": "stdout",
     "output_type": "stream",
     "text": [
      "This is a text file\n"
     ]
    }
   ],
   "source": [
    "string = \"E:\\\\UNIPUNEPHD\\\\ChandrashekharScanDocuments\\\\abc.txt\"\n",
    "if string.endswith('.txt'):\n",
    "    print('This is a text file')"
   ]
  },
  {
   "cell_type": "code",
   "execution_count": 46,
   "id": "c143f33e",
   "metadata": {},
   "outputs": [
    {
     "name": "stdout",
     "output_type": "stream",
     "text": [
      "This is a pdf file\n"
     ]
    }
   ],
   "source": [
    "string = \"E:\\\\UNIPUNE PHD\\\\Chandrashekhar Scan Documents\\\\abc.pdf\"\n",
    "if string.endswith('.pdf'):\n",
    "    print('This is a pdf file')"
   ]
  },
  {
   "cell_type": "markdown",
   "id": "8737ec6e",
   "metadata": {},
   "source": [
    "### 17. startswith"
   ]
  },
  {
   "cell_type": "raw",
   "id": "df4677f9",
   "metadata": {},
   "source": [
    "It returns boolean values (True or False)\n",
    "Use : To check prefix\n",
    "startswith(substring, [start_index])"
   ]
  },
  {
   "cell_type": "code",
   "execution_count": 47,
   "id": "2574299f",
   "metadata": {},
   "outputs": [
    {
     "data": {
      "text/plain": [
       "True"
      ]
     },
     "execution_count": 47,
     "metadata": {},
     "output_type": "execute_result"
    }
   ],
   "source": [
    "str1 = \"Python is programming. language. Python is used for. machine. learning\"\n",
    "str1.startswith('P')"
   ]
  },
  {
   "cell_type": "code",
   "execution_count": 48,
   "id": "c7c133f6",
   "metadata": {},
   "outputs": [
    {
     "data": {
      "text/plain": [
       "True"
      ]
     },
     "execution_count": 48,
     "metadata": {},
     "output_type": "execute_result"
    }
   ],
   "source": [
    "str1 = \"Python is programming. language. Python is used for. machine. learning\"\n",
    "str1.startswith('Python')"
   ]
  },
  {
   "cell_type": "code",
   "execution_count": 49,
   "id": "86efcacf",
   "metadata": {},
   "outputs": [
    {
     "data": {
      "text/plain": [
       "False"
      ]
     },
     "execution_count": 49,
     "metadata": {},
     "output_type": "execute_result"
    }
   ],
   "source": [
    "str1 = \"Python is programming. language. Python is used for. machine. learning\"\n",
    "str1.startswith('p')"
   ]
  },
  {
   "cell_type": "code",
   "execution_count": 50,
   "id": "19fe6df7",
   "metadata": {},
   "outputs": [
    {
     "data": {
      "text/plain": [
       "True"
      ]
     },
     "execution_count": 50,
     "metadata": {},
     "output_type": "execute_result"
    }
   ],
   "source": [
    "str1 = \"Python is programming. language. Python is used for. machine. learning\"\n",
    "str1.startswith('programming',10)"
   ]
  },
  {
   "cell_type": "markdown",
   "id": "8347cf4b",
   "metadata": {},
   "source": [
    "### 18. isalnum()"
   ]
  },
  {
   "cell_type": "raw",
   "id": "6fa44236",
   "metadata": {},
   "source": [
    "It returns boolean values (True or False)\n",
    "Return True : If string is alphanumeric\n",
    "Return False : If string is not alphanumeric\n",
    "alphanumeric : Alphabets and numbres [A-Z, a-z, 0-9]\n",
    "It does not allow special character or spaces"
   ]
  },
  {
   "cell_type": "code",
   "execution_count": 51,
   "id": "5f8e413b",
   "metadata": {},
   "outputs": [
    {
     "data": {
      "text/plain": [
       "True"
      ]
     },
     "execution_count": 51,
     "metadata": {},
     "output_type": "execute_result"
    }
   ],
   "source": [
    "s = 'Analytics'\n",
    "s.isalnum()"
   ]
  },
  {
   "cell_type": "code",
   "execution_count": 52,
   "id": "e0222c77",
   "metadata": {},
   "outputs": [
    {
     "data": {
      "text/plain": [
       "True"
      ]
     },
     "execution_count": 52,
     "metadata": {},
     "output_type": "execute_result"
    }
   ],
   "source": [
    "s = 'Analytics1234'\n",
    "s.isalnum()"
   ]
  },
  {
   "cell_type": "code",
   "execution_count": 53,
   "id": "d1e4d286",
   "metadata": {},
   "outputs": [
    {
     "data": {
      "text/plain": [
       "False"
      ]
     },
     "execution_count": 53,
     "metadata": {},
     "output_type": "execute_result"
    }
   ],
   "source": [
    "s = ' Analytics'\n",
    "s.isalnum()"
   ]
  },
  {
   "cell_type": "code",
   "execution_count": 54,
   "id": "2becc4b8",
   "metadata": {},
   "outputs": [
    {
     "data": {
      "text/plain": [
       "False"
      ]
     },
     "execution_count": 54,
     "metadata": {},
     "output_type": "execute_result"
    }
   ],
   "source": [
    "s = 'Analytics@'\n",
    "s.isalnum()"
   ]
  },
  {
   "cell_type": "code",
   "execution_count": 55,
   "id": "0c0ce047",
   "metadata": {},
   "outputs": [
    {
     "data": {
      "text/plain": [
       "True"
      ]
     },
     "execution_count": 55,
     "metadata": {},
     "output_type": "execute_result"
    }
   ],
   "source": [
    "s = 'ANALYTICS'\n",
    "s.isalnum()"
   ]
  },
  {
   "cell_type": "code",
   "execution_count": 56,
   "id": "cdb1f1fb",
   "metadata": {},
   "outputs": [
    {
     "data": {
      "text/plain": [
       "True"
      ]
     },
     "execution_count": 56,
     "metadata": {},
     "output_type": "execute_result"
    }
   ],
   "source": [
    "s = 'ANALYTICS'\n",
    "s.isalnum()"
   ]
  },
  {
   "cell_type": "code",
   "execution_count": 57,
   "id": "0be7ab92",
   "metadata": {},
   "outputs": [
    {
     "name": "stdout",
     "output_type": "stream",
     "text": [
      "Yes, given number is pan number\n"
     ]
    }
   ],
   "source": [
    "pan_num = \"CSTKL3446F\"\n",
    "if pan_num.isalnum():\n",
    "    print(\"Yes, given number is pan number\")"
   ]
  },
  {
   "cell_type": "code",
   "execution_count": 59,
   "id": "6b169e3e",
   "metadata": {},
   "outputs": [
    {
     "name": "stdout",
     "output_type": "stream",
     "text": [
      "Given number is not a pan number\n"
     ]
    }
   ],
   "source": [
    "pan_num = \"CSTKL#446F\"\n",
    "\n",
    "if pan_num.isalnum():\n",
    "    print(\"Yes, given number is pan number\")\n",
    "\n",
    "else:\n",
    "    print(\"Given number is not a pan number\")"
   ]
  },
  {
   "cell_type": "code",
   "execution_count": 60,
   "id": "dd87573c",
   "metadata": {},
   "outputs": [
    {
     "name": "stdout",
     "output_type": "stream",
     "text": [
      "Yes, given number is valid ifsc\n"
     ]
    }
   ],
   "source": [
    "ifsc = \"SBIN0013275\"\n",
    "\n",
    "if ifsc.isalnum():\n",
    "    print(\"Yes, given number is valid ifsc\")\n",
    "\n",
    "else:\n",
    "    print(\"Given number is invalid ifsc\")"
   ]
  },
  {
   "cell_type": "code",
   "execution_count": 61,
   "id": "6f5131dd",
   "metadata": {},
   "outputs": [
    {
     "name": "stdout",
     "output_type": "stream",
     "text": [
      "Given number is invalid ifsc\n"
     ]
    }
   ],
   "source": [
    "ifsc = \"SBIN00 13275\"\n",
    "\n",
    "if ifsc.isalnum():\n",
    "    print(\"Yes, given number is valid ifsc\")\n",
    "\n",
    "else:\n",
    "    print(\"Given number is invalid ifsc\")"
   ]
  },
  {
   "cell_type": "markdown",
   "id": "5604c6ef",
   "metadata": {},
   "source": [
    "### 19. isalpha"
   ]
  },
  {
   "cell_type": "raw",
   "id": "ec93da2d",
   "metadata": {},
   "source": [
    "It returns boolean values (True or False)\n",
    "Return True : If string contain only alphabets\n",
    "Return False : If string does not alphabets\n",
    "alphabets : Alphabets [A-Z, a-z]\n",
    "It does not allow special character or spaces"
   ]
  },
  {
   "cell_type": "code",
   "execution_count": 62,
   "id": "50912aaa",
   "metadata": {},
   "outputs": [
    {
     "data": {
      "text/plain": [
       "True"
      ]
     },
     "execution_count": 62,
     "metadata": {},
     "output_type": "execute_result"
    }
   ],
   "source": [
    "s = \"DataScience\"\n",
    "s.isalpha()"
   ]
  },
  {
   "cell_type": "code",
   "execution_count": 63,
   "id": "a940439b",
   "metadata": {},
   "outputs": [
    {
     "data": {
      "text/plain": [
       "False"
      ]
     },
     "execution_count": 63,
     "metadata": {},
     "output_type": "execute_result"
    }
   ],
   "source": [
    "s = \"Data Science\"\n",
    "s.isalpha()"
   ]
  },
  {
   "cell_type": "code",
   "execution_count": 64,
   "id": "9d397065",
   "metadata": {},
   "outputs": [
    {
     "data": {
      "text/plain": [
       "False"
      ]
     },
     "execution_count": 64,
     "metadata": {},
     "output_type": "execute_result"
    }
   ],
   "source": [
    "s = \"1DataScience\"\n",
    "s.isalpha()"
   ]
  },
  {
   "cell_type": "markdown",
   "id": "ad997755",
   "metadata": {},
   "source": [
    "### 20. isdecimal"
   ]
  },
  {
   "cell_type": "raw",
   "id": "a5204ebb",
   "metadata": {},
   "source": [
    "It returns boolean values (True or False)\n",
    "Return True : If string contain only decimals\n",
    "Return False : If string does not decimals\n",
    "It does not allow special character or spaces"
   ]
  },
  {
   "cell_type": "code",
   "execution_count": 66,
   "id": "96262e44",
   "metadata": {},
   "outputs": [
    {
     "data": {
      "text/plain": [
       "True"
      ]
     },
     "execution_count": 66,
     "metadata": {},
     "output_type": "execute_result"
    }
   ],
   "source": [
    "mob_no = \"1234567891\"\n",
    "mob_no.isdecimal()"
   ]
  },
  {
   "cell_type": "code",
   "execution_count": 67,
   "id": "2ea9140f",
   "metadata": {},
   "outputs": [
    {
     "data": {
      "text/plain": [
       "False"
      ]
     },
     "execution_count": 67,
     "metadata": {},
     "output_type": "execute_result"
    }
   ],
   "source": [
    "mob_no = \"123456789A\"\n",
    "mob_no.isdecimal()"
   ]
  },
  {
   "cell_type": "code",
   "execution_count": 68,
   "id": "f8139738",
   "metadata": {},
   "outputs": [
    {
     "data": {
      "text/plain": [
       "False"
      ]
     },
     "execution_count": 68,
     "metadata": {},
     "output_type": "execute_result"
    }
   ],
   "source": [
    "mob_no = \"1234 5678 91\"\n",
    "mob_no.isdecimal()"
   ]
  },
  {
   "cell_type": "code",
   "execution_count": 69,
   "id": "e5e178de",
   "metadata": {},
   "outputs": [
    {
     "data": {
      "text/plain": [
       "False"
      ]
     },
     "execution_count": 69,
     "metadata": {},
     "output_type": "execute_result"
    }
   ],
   "source": [
    "mob_no = \"123 456 7891\"\n",
    "mob_no.isdecimal()"
   ]
  },
  {
   "cell_type": "code",
   "execution_count": 70,
   "id": "d9c93ec3",
   "metadata": {},
   "outputs": [
    {
     "name": "stdout",
     "output_type": "stream",
     "text": [
      "Valid Aadhar Number\n"
     ]
    }
   ],
   "source": [
    "aadhar_no = \"1234 3456 1234\"\n",
    "\n",
    "if aadhar_no.replace(\" \",\"\").isdecimal():\n",
    "    print(\"Valid Aadhar Number\")\n",
    "\n",
    "else:\n",
    "    print(\"Imvalid Aadhar number\")"
   ]
  },
  {
   "cell_type": "code",
   "execution_count": 71,
   "id": "fc62dfca",
   "metadata": {},
   "outputs": [
    {
     "name": "stdout",
     "output_type": "stream",
     "text": [
      "Invalid Aadhar number\n"
     ]
    }
   ],
   "source": [
    "aadhar_no = \"1234 3456 123a\"\n",
    "\n",
    "if aadhar_no.replace(\" \",\"\").isdecimal():\n",
    "    print(\"Valid Aadhar Number\")\n",
    "\n",
    "else:\n",
    "    print(\"Invalid Aadhar number\")"
   ]
  },
  {
   "cell_type": "code",
   "execution_count": 72,
   "id": "5e2bbaae",
   "metadata": {},
   "outputs": [
    {
     "name": "stdout",
     "output_type": "stream",
     "text": [
      "Valid ip address\n"
     ]
    }
   ],
   "source": [
    "ip_add = '101.98.89'\n",
    "\n",
    "if ip_add.replace(\".\",\"\").isdecimal():\n",
    "    print(\"Valid ip address\")\n",
    "\n",
    "else:\n",
    "    print(\"Invalid ip address\")"
   ]
  },
  {
   "cell_type": "code",
   "execution_count": 73,
   "id": "1811b87c",
   "metadata": {},
   "outputs": [
    {
     "name": "stdout",
     "output_type": "stream",
     "text": [
      "Invalid ip address\n"
     ]
    }
   ],
   "source": [
    "ip_add = '101.98.89'\n",
    "\n",
    "if ip_add.isdecimal():\n",
    "    print(\"Valid ip address\")\n",
    "\n",
    "else:\n",
    "    print(\"Invalid ip address\")"
   ]
  },
  {
   "cell_type": "markdown",
   "id": "92f05f44",
   "metadata": {},
   "source": [
    "### 21. islower()"
   ]
  },
  {
   "cell_type": "raw",
   "id": "f058b8c7",
   "metadata": {},
   "source": [
    "Returns True >>>> If characters of string are in lower case.\n",
    "Spaces are allowed."
   ]
  },
  {
   "cell_type": "code",
   "execution_count": 74,
   "id": "c01fdeb9",
   "metadata": {},
   "outputs": [
    {
     "data": {
      "text/plain": [
       "True"
      ]
     },
     "execution_count": 74,
     "metadata": {},
     "output_type": "execute_result"
    }
   ],
   "source": [
    "str1 = 'python'\n",
    "str1.islower()"
   ]
  },
  {
   "cell_type": "code",
   "execution_count": 75,
   "id": "b1e2d405",
   "metadata": {},
   "outputs": [
    {
     "data": {
      "text/plain": [
       "False"
      ]
     },
     "execution_count": 75,
     "metadata": {},
     "output_type": "execute_result"
    }
   ],
   "source": [
    "str1 = 'Python'\n",
    "str1.islower()"
   ]
  },
  {
   "cell_type": "code",
   "execution_count": 76,
   "id": "0829c1c4",
   "metadata": {},
   "outputs": [
    {
     "data": {
      "text/plain": [
       "True"
      ]
     },
     "execution_count": 76,
     "metadata": {},
     "output_type": "execute_result"
    }
   ],
   "source": [
    "str1 = 'python class'\n",
    "str1.islower()"
   ]
  },
  {
   "cell_type": "code",
   "execution_count": 77,
   "id": "42d1ec36",
   "metadata": {},
   "outputs": [
    {
     "data": {
      "text/plain": [
       "True"
      ]
     },
     "execution_count": 77,
     "metadata": {},
     "output_type": "execute_result"
    }
   ],
   "source": [
    "str1 = 'python123'\n",
    "str1.islower()"
   ]
  },
  {
   "cell_type": "code",
   "execution_count": 78,
   "id": "a62c190b",
   "metadata": {},
   "outputs": [
    {
     "data": {
      "text/plain": [
       "True"
      ]
     },
     "execution_count": 78,
     "metadata": {},
     "output_type": "execute_result"
    }
   ],
   "source": [
    "str1 = 'python 123'\n",
    "str1.islower()"
   ]
  },
  {
   "cell_type": "markdown",
   "id": "fd3c3ab3",
   "metadata": {},
   "source": [
    "### 22. isupper()"
   ]
  },
  {
   "cell_type": "raw",
   "id": "8b56efb9",
   "metadata": {},
   "source": [
    "Returns True >>>> If characters of string are in upper case.\n",
    "Spaces are allowed."
   ]
  },
  {
   "cell_type": "code",
   "execution_count": 79,
   "id": "6da19848",
   "metadata": {},
   "outputs": [
    {
     "name": "stdout",
     "output_type": "stream",
     "text": [
      "False\n",
      "True\n",
      "True\n",
      "False\n",
      "False\n"
     ]
    }
   ],
   "source": [
    "s1 = 'Data Analyst'\n",
    "s2 = \"DATA ANALYST\"\n",
    "s3 = \"DATA ANALYST123\"\n",
    "s4 = 'data analyst 123'\n",
    "s5 = 'Python and Data SCIENCE'\n",
    "print(s1.isupper())\n",
    "print(s2.isupper())\n",
    "print(s3.isupper())\n",
    "print(s4.isupper())\n",
    "print(s5.isupper())"
   ]
  },
  {
   "cell_type": "code",
   "execution_count": 80,
   "id": "c24427fa",
   "metadata": {},
   "outputs": [
    {
     "name": "stdout",
     "output_type": "stream",
     "text": [
      "VALID IFSC\n"
     ]
    }
   ],
   "source": [
    "ifsc = 'SBIN0013275'\n",
    "if ifsc.isupper():\n",
    "    print('VALID IFSC')"
   ]
  },
  {
   "cell_type": "code",
   "execution_count": 81,
   "id": "8cc69dbf",
   "metadata": {},
   "outputs": [
    {
     "name": "stdout",
     "output_type": "stream",
     "text": [
      "Enter valid IFSC code\n"
     ]
    }
   ],
   "source": [
    "ifsc = 'SBIn0013275'\n",
    "\n",
    "if ifsc.isupper():\n",
    "    print('VALID IFSC')\n",
    "\n",
    "else:\n",
    "    print('Enter valid IFSC code')\n",
    "    "
   ]
  },
  {
   "cell_type": "markdown",
   "id": "5040d761",
   "metadata": {},
   "source": [
    "### 23. istitle()"
   ]
  },
  {
   "cell_type": "code",
   "execution_count": 82,
   "id": "01c8a7d0",
   "metadata": {},
   "outputs": [
    {
     "data": {
      "text/plain": [
       "True"
      ]
     },
     "execution_count": 82,
     "metadata": {},
     "output_type": "execute_result"
    }
   ],
   "source": [
    "name = \"Data Scientist\"\n",
    "name.istitle()"
   ]
  },
  {
   "cell_type": "code",
   "execution_count": 83,
   "id": "4553c3de",
   "metadata": {},
   "outputs": [
    {
     "data": {
      "text/plain": [
       "False"
      ]
     },
     "execution_count": 83,
     "metadata": {},
     "output_type": "execute_result"
    }
   ],
   "source": [
    "name = \"Data scientist\"\n",
    "name.istitle()"
   ]
  },
  {
   "cell_type": "code",
   "execution_count": 84,
   "id": "7d438686",
   "metadata": {},
   "outputs": [
    {
     "data": {
      "text/plain": [
       "True"
      ]
     },
     "execution_count": 84,
     "metadata": {},
     "output_type": "execute_result"
    }
   ],
   "source": [
    "country_name = 'United States Of America'\n",
    "country_name.istitle()"
   ]
  },
  {
   "cell_type": "markdown",
   "id": "a564851d",
   "metadata": {},
   "source": [
    "### 24. isdigit()"
   ]
  },
  {
   "cell_type": "raw",
   "id": "d029a3e4",
   "metadata": {},
   "source": [
    "Returns True if all chararcters are digits, subscripts and superscripts"
   ]
  },
  {
   "cell_type": "code",
   "execution_count": 85,
   "id": "2b5d0755",
   "metadata": {},
   "outputs": [
    {
     "data": {
      "text/plain": [
       "True"
      ]
     },
     "execution_count": 85,
     "metadata": {},
     "output_type": "execute_result"
    }
   ],
   "source": [
    "num = '45'\n",
    "num.isdigit()"
   ]
  },
  {
   "cell_type": "code",
   "execution_count": 86,
   "id": "0c397874",
   "metadata": {},
   "outputs": [
    {
     "data": {
      "text/plain": [
       "False"
      ]
     },
     "execution_count": 86,
     "metadata": {},
     "output_type": "execute_result"
    }
   ],
   "source": [
    "num = '45.34'\n",
    "num.isdigit()"
   ]
  },
  {
   "cell_type": "code",
   "execution_count": 87,
   "id": "079eea82",
   "metadata": {},
   "outputs": [
    {
     "data": {
      "text/plain": [
       "False"
      ]
     },
     "execution_count": 87,
     "metadata": {},
     "output_type": "execute_result"
    }
   ],
   "source": [
    "num = '453-234-6578'\n",
    "num.isdigit()"
   ]
  },
  {
   "cell_type": "code",
   "execution_count": 88,
   "id": "c14dea35",
   "metadata": {},
   "outputs": [
    {
     "data": {
      "text/plain": [
       "False"
      ]
     },
     "execution_count": 88,
     "metadata": {},
     "output_type": "execute_result"
    }
   ],
   "source": [
    "num = '2e3'\n",
    "num.isdigit()"
   ]
  },
  {
   "cell_type": "code",
   "execution_count": 89,
   "id": "02080be3",
   "metadata": {},
   "outputs": [
    {
     "data": {
      "text/plain": [
       "False"
      ]
     },
     "execution_count": 89,
     "metadata": {},
     "output_type": "execute_result"
    }
   ],
   "source": [
    "s = '2^2'\n",
    "s.isdigit()"
   ]
  },
  {
   "cell_type": "markdown",
   "id": "d08403c9",
   "metadata": {},
   "source": [
    "### 25. isnumeric()"
   ]
  },
  {
   "cell_type": "raw",
   "id": "ead523e2",
   "metadata": {},
   "source": [
    "True >>> If all char are digits\n",
    "subscripts, superscrits and fractions."
   ]
  },
  {
   "cell_type": "code",
   "execution_count": 90,
   "id": "fac2b459",
   "metadata": {},
   "outputs": [
    {
     "data": {
      "text/plain": [
       "True"
      ]
     },
     "execution_count": 90,
     "metadata": {},
     "output_type": "execute_result"
    }
   ],
   "source": [
    "s = '12345567'\n",
    "s.isnumeric()"
   ]
  },
  {
   "cell_type": "code",
   "execution_count": 91,
   "id": "a58768f4",
   "metadata": {},
   "outputs": [
    {
     "data": {
      "text/plain": [
       "False"
      ]
     },
     "execution_count": 91,
     "metadata": {},
     "output_type": "execute_result"
    }
   ],
   "source": [
    "s = '1/2'\n",
    "s.isnumeric()"
   ]
  },
  {
   "cell_type": "code",
   "execution_count": 92,
   "id": "2d599cc0",
   "metadata": {},
   "outputs": [
    {
     "name": "stdout",
     "output_type": "stream",
     "text": [
      "True\n",
      "True\n",
      "True\n"
     ]
    }
   ],
   "source": [
    "s = '12345567'\n",
    "print(s.isdecimal())\n",
    "print(s.isdigit())\n",
    "print(s.isnumeric())"
   ]
  },
  {
   "cell_type": "code",
   "execution_count": 93,
   "id": "9457bb91",
   "metadata": {},
   "outputs": [
    {
     "name": "stdout",
     "output_type": "stream",
     "text": [
      "False\n",
      "False\n",
      "False\n"
     ]
    }
   ],
   "source": [
    "s = '123 455 67'\n",
    "print(s.isdecimal())\n",
    "print(s.isdigit())\n",
    "print(s.isnumeric())"
   ]
  },
  {
   "cell_type": "code",
   "execution_count": 94,
   "id": "43de0dd0",
   "metadata": {},
   "outputs": [
    {
     "name": "stdout",
     "output_type": "stream",
     "text": [
      "False\n",
      "False\n",
      "False\n"
     ]
    }
   ],
   "source": [
    "s = '123.45567'\n",
    "print(s.isdecimal())\n",
    "print(s.isdigit())\n",
    "print(s.isnumeric())"
   ]
  },
  {
   "cell_type": "code",
   "execution_count": 95,
   "id": "7a37e0f7",
   "metadata": {},
   "outputs": [
    {
     "name": "stdout",
     "output_type": "stream",
     "text": [
      "False\n",
      "True\n",
      "True\n"
     ]
    }
   ],
   "source": [
    "# superscripts\n",
    "power = '\\u2083'   # power of 4\n",
    "print(power.isdecimal())\n",
    "print(power.isdigit())\n",
    "print(power.isnumeric())"
   ]
  },
  {
   "cell_type": "code",
   "execution_count": 96,
   "id": "72c359e2",
   "metadata": {},
   "outputs": [
    {
     "name": "stdout",
     "output_type": "stream",
     "text": [
      "False\n",
      "False\n",
      "True\n"
     ]
    }
   ],
   "source": [
    "# fraction\n",
    "fraction = '\\u00BD'   # Fraction of 1/2\n",
    "print(fraction.isdecimal())\n",
    "print(fraction.isdigit())\n",
    "print(fraction.isnumeric())"
   ]
  },
  {
   "cell_type": "raw",
   "id": "bb1f9c92",
   "metadata": {},
   "source": [
    "isdecimal()>>>>> digits\n",
    "isdigit()>>>>> digits, subscripts, superscripts\n",
    "isnumeric()>>>>> digits, subscripts, superscripts, fractions"
   ]
  },
  {
   "cell_type": "markdown",
   "id": "f6a886e5",
   "metadata": {},
   "source": [
    "### 26. isspace()"
   ]
  },
  {
   "cell_type": "raw",
   "id": "8c4f6b7d",
   "metadata": {},
   "source": [
    "True>> If all char in string are spaces"
   ]
  },
  {
   "cell_type": "code",
   "execution_count": 98,
   "id": "df7d2c93",
   "metadata": {},
   "outputs": [
    {
     "data": {
      "text/plain": [
       "True"
      ]
     },
     "execution_count": 98,
     "metadata": {},
     "output_type": "execute_result"
    }
   ],
   "source": [
    "str1 = \"           \"\n",
    "str1.isspace()"
   ]
  },
  {
   "cell_type": "code",
   "execution_count": 99,
   "id": "7dc12b17",
   "metadata": {},
   "outputs": [
    {
     "data": {
      "text/plain": [
       "False"
      ]
     },
     "execution_count": 99,
     "metadata": {},
     "output_type": "execute_result"
    }
   ],
   "source": [
    "str1 = \"a           \"\n",
    "str1.isspace()"
   ]
  },
  {
   "cell_type": "code",
   "execution_count": 100,
   "id": "b6d24ebf",
   "metadata": {},
   "outputs": [
    {
     "data": {
      "text/plain": [
       "False"
      ]
     },
     "execution_count": 100,
     "metadata": {},
     "output_type": "execute_result"
    }
   ],
   "source": [
    "str1 = \"      .     \"\n",
    "str1.isspace()"
   ]
  },
  {
   "cell_type": "code",
   "execution_count": 101,
   "id": "87f19d68",
   "metadata": {},
   "outputs": [
    {
     "data": {
      "text/plain": [
       "False"
      ]
     },
     "execution_count": 101,
     "metadata": {},
     "output_type": "execute_result"
    }
   ],
   "source": [
    "str1 = \"      @     \"\n",
    "str1.isspace()"
   ]
  },
  {
   "cell_type": "code",
   "execution_count": 102,
   "id": "954c35cd",
   "metadata": {},
   "outputs": [
    {
     "data": {
      "text/plain": [
       "False"
      ]
     },
     "execution_count": 102,
     "metadata": {},
     "output_type": "execute_result"
    }
   ],
   "source": [
    "str1 = \"\"\n",
    "str1.isspace()"
   ]
  },
  {
   "cell_type": "markdown",
   "id": "7cbc7cc5",
   "metadata": {},
   "source": [
    "### 27. center()"
   ]
  },
  {
   "cell_type": "code",
   "execution_count": 103,
   "id": "d4a05fdc",
   "metadata": {},
   "outputs": [
    {
     "data": {
      "text/plain": [
       "' Machine  '"
      ]
     },
     "execution_count": 103,
     "metadata": {},
     "output_type": "execute_result"
    }
   ],
   "source": [
    "s = 'Machine'\n",
    "s.center(10)"
   ]
  },
  {
   "cell_type": "code",
   "execution_count": 104,
   "id": "38b4075f",
   "metadata": {},
   "outputs": [
    {
     "data": {
      "text/plain": [
       "'Machine'"
      ]
     },
     "execution_count": 104,
     "metadata": {},
     "output_type": "execute_result"
    }
   ],
   "source": [
    "s = 'Machine'\n",
    "s.center(0)"
   ]
  },
  {
   "cell_type": "code",
   "execution_count": 105,
   "id": "6904d630",
   "metadata": {},
   "outputs": [
    {
     "data": {
      "text/plain": [
       "'*Machine**'"
      ]
     },
     "execution_count": 105,
     "metadata": {},
     "output_type": "execute_result"
    }
   ],
   "source": [
    "s = 'Machine'\n",
    "s.center(10, '*')"
   ]
  },
  {
   "cell_type": "code",
   "execution_count": 106,
   "id": "e453879d",
   "metadata": {},
   "outputs": [
    {
     "data": {
      "text/plain": [
       "'**Machine**'"
      ]
     },
     "execution_count": 106,
     "metadata": {},
     "output_type": "execute_result"
    }
   ],
   "source": [
    "s = 'Machine'\n",
    "s.center(11, '*')"
   ]
  },
  {
   "cell_type": "code",
   "execution_count": 107,
   "id": "091e4be3",
   "metadata": {},
   "outputs": [
    {
     "data": {
      "text/plain": [
       "'++++++++Data++++++++'"
      ]
     },
     "execution_count": 107,
     "metadata": {},
     "output_type": "execute_result"
    }
   ],
   "source": [
    "s = 'Data'\n",
    "s.center(20,'+')"
   ]
  },
  {
   "cell_type": "markdown",
   "id": "4b2a78ee",
   "metadata": {},
   "source": [
    "### 28. zfill()"
   ]
  },
  {
   "cell_type": "raw",
   "id": "8fcd365e",
   "metadata": {},
   "source": [
    "Adding zeroes at the begining of string"
   ]
  },
  {
   "cell_type": "code",
   "execution_count": 109,
   "id": "b6388a20",
   "metadata": {},
   "outputs": [
    {
     "data": {
      "text/plain": [
       "'01234'"
      ]
     },
     "execution_count": 109,
     "metadata": {},
     "output_type": "execute_result"
    }
   ],
   "source": [
    "s = '1234'\n",
    "s.zfill(5)"
   ]
  },
  {
   "cell_type": "code",
   "execution_count": 110,
   "id": "60bfd53f",
   "metadata": {},
   "outputs": [
    {
     "data": {
      "text/plain": [
       "'0000001234'"
      ]
     },
     "execution_count": 110,
     "metadata": {},
     "output_type": "execute_result"
    }
   ],
   "source": [
    "s = '1234'\n",
    "s.zfill(10)"
   ]
  },
  {
   "cell_type": "code",
   "execution_count": 111,
   "id": "6dbd838c",
   "metadata": {},
   "outputs": [
    {
     "data": {
      "text/plain": [
       "'0000Machine Learning'"
      ]
     },
     "execution_count": 111,
     "metadata": {},
     "output_type": "execute_result"
    }
   ],
   "source": [
    "s = 'Machine Learning'\n",
    "len(s)\n",
    "s.zfill(20)"
   ]
  },
  {
   "cell_type": "markdown",
   "id": "a0fc93b0",
   "metadata": {},
   "source": [
    "#### Thus we have covered all string functions here. Happy Learning...!!!"
   ]
  },
  {
   "cell_type": "code",
   "execution_count": null,
   "id": "49643f36",
   "metadata": {},
   "outputs": [],
   "source": []
  }
 ],
 "metadata": {
  "kernelspec": {
   "display_name": "Python 3 (ipykernel)",
   "language": "python",
   "name": "python3"
  },
  "language_info": {
   "codemirror_mode": {
    "name": "ipython",
    "version": 3
   },
   "file_extension": ".py",
   "mimetype": "text/x-python",
   "name": "python",
   "nbconvert_exporter": "python",
   "pygments_lexer": "ipython3",
   "version": "3.8.17"
  }
 },
 "nbformat": 4,
 "nbformat_minor": 5
}
